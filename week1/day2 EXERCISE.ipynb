{
 "cells": [
  {
   "cell_type": "markdown",
   "id": "d15d8294-3328-4e07-ad16-8a03e9bbfdb9",
   "metadata": {},
   "source": [
    "# Welcome to your first assignment!\n",
    "\n",
    "Instructions are below. Please give this a try, and look in the solutions folder if you get stuck (or feel free to ask me!)"
   ]
  },
  {
   "cell_type": "markdown",
   "id": "ada885d9-4d42-4d9b-97f0-74fbbbfe93a9",
   "metadata": {},
   "source": [
    "<table style=\"margin: 0; text-align: left;\">\n",
    "    <tr>\n",
    "        <td style=\"width: 150px; height: 150px; vertical-align: middle;\">\n",
    "            <img src=\"../resources.jpg\" width=\"150\" height=\"150\" style=\"display: block;\" />\n",
    "        </td>\n",
    "        <td>\n",
    "            <h2 style=\"color:#f71;\">Just before we get to the assignment --</h2>\n",
    "            <span style=\"color:#f71;\">I thought I'd take a second to point you at this page of useful resources for the course. This includes links to all the slides.<br/>\n",
    "            <a href=\"https://edwarddonner.com/2024/11/13/llm-engineering-resources/\">https://edwarddonner.com/2024/11/13/llm-engineering-resources/</a><br/>\n",
    "            Please keep this bookmarked, and I'll continue to add more useful links there over time.\n",
    "            </span>\n",
    "        </td>\n",
    "    </tr>\n",
    "</table>"
   ]
  },
  {
   "cell_type": "markdown",
   "id": "6e9fa1fc-eac5-4d1d-9be4-541b3f2b3458",
   "metadata": {},
   "source": [
    "# HOMEWORK EXERCISE ASSIGNMENT\n",
    "\n",
    "Upgrade the day 1 project to summarize a webpage to use an Open Source model running locally via Ollama rather than OpenAI\n",
    "\n",
    "You'll be able to use this technique for all subsequent projects if you'd prefer not to use paid APIs.\n",
    "\n",
    "**Benefits:**\n",
    "1. No API charges - open-source\n",
    "2. Data doesn't leave your box\n",
    "\n",
    "**Disadvantages:**\n",
    "1. Significantly less power than Frontier Model\n",
    "\n",
    "## Recap on installation of Ollama\n",
    "\n",
    "Simply visit [ollama.com](https://ollama.com) and install!\n",
    "\n",
    "Once complete, the ollama server should already be running locally.  \n",
    "If you visit:  \n",
    "[http://localhost:11434/](http://localhost:11434/)\n",
    "\n",
    "You should see the message `Ollama is running`.  \n",
    "\n",
    "If not, bring up a new Terminal (Mac) or Powershell (Windows) and enter `ollama serve`  \n",
    "And in another Terminal (Mac) or Powershell (Windows), enter `ollama pull llama3.2`  \n",
    "Then try [http://localhost:11434/](http://localhost:11434/) again.\n",
    "\n",
    "If Ollama is slow on your machine, try using `llama3.2:1b` as an alternative. Run `ollama pull llama3.2:1b` from a Terminal or Powershell, and change the code below from `MODEL = \"llama3.2\"` to `MODEL = \"llama3.2:1b\"`"
   ]
  },
  {
   "cell_type": "code",
   "execution_count": 1,
   "id": "4e2a9393-7767-488e-a8bf-27c12dca35bd",
   "metadata": {},
   "outputs": [],
   "source": [
    "# imports\n",
    "\n",
    "import requests\n",
    "from bs4 import BeautifulSoup\n",
    "from IPython.display import Markdown, display"
   ]
  },
  {
   "cell_type": "code",
   "execution_count": 2,
   "id": "29ddd15d-a3c5-4f4e-a678-873f56162724",
   "metadata": {},
   "outputs": [],
   "source": [
    "# Constants\n",
    "\n",
    "OLLAMA_API = \"http://localhost:11434/api/chat\"\n",
    "HEADERS = {\"Content-Type\": \"application/json\"}\n",
    "MODEL = \"llama3.2\""
   ]
  },
  {
   "cell_type": "code",
   "execution_count": 3,
   "id": "dac0a679-599c-441f-9bf2-ddc73d35b940",
   "metadata": {},
   "outputs": [],
   "source": [
    "# Create a messages list using the same format that we used for OpenAI\n",
    "\n",
    "messages = [\n",
    "    {\"role\": \"user\", \"content\": \"Describe some of the business applications of Generative AI\"}\n",
    "]"
   ]
  },
  {
   "cell_type": "code",
   "execution_count": 4,
   "id": "7bb9c624-14f0-4945-a719-8ddb64f66f47",
   "metadata": {},
   "outputs": [],
   "source": [
    "payload = {\n",
    "        \"model\": MODEL,\n",
    "        \"messages\": messages,\n",
    "        \"stream\": False\n",
    "    }"
   ]
  },
  {
   "cell_type": "code",
   "execution_count": 5,
   "id": "479ff514-e8bd-4985-a572-2ea28bb4fa40",
   "metadata": {},
   "outputs": [
    {
     "name": "stderr",
     "output_type": "stream",
     "text": [
      "\u001b[?25lpulling manifest â ‹ \u001b[?25h\u001b[?25l\u001b[2K\u001b[1Gpulling manifest â ™ \u001b[?25h\u001b[?25l\u001b[2K\u001b[1Gpulling manifest â ¹ \u001b[?25h\u001b[?25l\u001b[2K\u001b[1Gpulling manifest â ¸ \u001b[?25h\u001b[?25l\u001b[2K\u001b[1Gpulling manifest â ¼ \u001b[?25h\u001b[?25l\u001b[2K\u001b[1Gpulling manifest â ´ \u001b[?25h\u001b[?25l\u001b[2K\u001b[1Gpulling manifest \n",
      "pulling dde5aa3fc5ff... 100% â–•â–ˆâ–ˆâ–ˆâ–ˆâ–ˆâ–ˆâ–ˆâ–ˆâ–ˆâ–ˆâ–ˆâ–ˆâ–ˆâ–ˆâ–ˆâ–ˆâ–� 2.0 GB                         \n",
      "pulling 966de95ca8a6... 100% â–•â–ˆâ–ˆâ–ˆâ–ˆâ–ˆâ–ˆâ–ˆâ–ˆâ–ˆâ–ˆâ–ˆâ–ˆâ–ˆâ–ˆâ–ˆâ–ˆâ–� 1.4 KB                         \n",
      "pulling fcc5a6bec9da... 100% â–•â–ˆâ–ˆâ–ˆâ–ˆâ–ˆâ–ˆâ–ˆâ–ˆâ–ˆâ–ˆâ–ˆâ–ˆâ–ˆâ–ˆâ–ˆâ–ˆâ–� 7.7 KB                         \n",
      "pulling a70ff7e570d9... 100% â–•â–ˆâ–ˆâ–ˆâ–ˆâ–ˆâ–ˆâ–ˆâ–ˆâ–ˆâ–ˆâ–ˆâ–ˆâ–ˆâ–ˆâ–ˆâ–ˆâ–� 6.0 KB                         \n",
      "pulling 56bb8bd477a5... 100% â–•â–ˆâ–ˆâ–ˆâ–ˆâ–ˆâ–ˆâ–ˆâ–ˆâ–ˆâ–ˆâ–ˆâ–ˆâ–ˆâ–ˆâ–ˆâ–ˆâ–�   96 B                         \n",
      "pulling 34bb5ab01051... 100% â–•â–ˆâ–ˆâ–ˆâ–ˆâ–ˆâ–ˆâ–ˆâ–ˆâ–ˆâ–ˆâ–ˆâ–ˆâ–ˆâ–ˆâ–ˆâ–ˆâ–�  561 B                         \n",
      "verifying sha256 digest \n",
      "writing manifest \n",
      "success \u001b[?25h\n"
     ]
    }
   ],
   "source": [
    "# Let's just make sure the model is loaded\n",
    "\n",
    "!ollama pull llama3.2"
   ]
  },
  {
   "cell_type": "code",
   "execution_count": 6,
   "id": "42b9f644-522d-4e05-a691-56e7658c0ea9",
   "metadata": {},
   "outputs": [
    {
     "name": "stdout",
     "output_type": "stream",
     "text": [
      "Generative AI has numerous business applications across various industries, including:\n",
      "\n",
      "1. **Content Creation**: Generative AI can generate high-quality content such as articles, blog posts, social media posts, and even entire books. This can be useful for businesses that need to produce large amounts of content quickly and efficiently.\n",
      "2. **Graphic Design**: Generative AI can create custom graphics, logos, and images, saving time and resources for designers and marketing teams.\n",
      "3. **Virtual Stylist**: Generative AI-powered virtual stylists can help fashion brands design new outfits, accessories, and even entire product lines.\n",
      "4. **Music Composition**: Generative AI can compose music tracks, beats, and melodies, making it a valuable tool for musicians, composers, and music producers.\n",
      "5. **Data Analysis**: Generative AI can analyze large datasets, identify patterns, and make predictions, helping businesses make data-driven decisions.\n",
      "6. **Customer Service Chatbots**: Generative AI-powered chatbots can engage with customers, answer questions, and provide support, freeing up human customer support agents to focus on more complex issues.\n",
      "7. **Marketing Campaigns**: Generative AI can generate personalized marketing messages, product recommendations, and even entire ad campaigns.\n",
      "8. **Product Design**: Generative AI can design new products, such as furniture, cars, or electronics, by generating 3D models, prototypes, and even functional prototypes.\n",
      "9. **Translation Services**: Generative AI-powered translation tools can translate text, audio, and video content in real-time, helping businesses communicate with global customers and clients.\n",
      "10. **Financial Analysis**: Generative AI can analyze financial data, predict stock market trends, and identify investment opportunities.\n",
      "11. **Predictive Maintenance**: Generative AI can analyze sensor data from machines and equipment, predicting when maintenance is needed, reducing downtime and increasing efficiency.\n",
      "12. **Speech Synthesis**: Generative AI-powered speech synthesis tools can create realistic human-like voices, making them useful for voice assistants, IVR systems, and more.\n",
      "13. **Image Generation**: Generative AI can generate images of products, buildings, or other scenes, helping businesses create marketing materials and product visuals.\n",
      "14. **Product Recommendations**: Generative AI can analyze customer behavior and preferences to provide personalized product recommendations on e-commerce platforms.\n",
      "15. **Automated Writing**: Generative AI can automate writing tasks such as proofreading, editing, and even creating entire documents.\n",
      "\n",
      "These are just a few examples of the many business applications of Generative AI. As the technology continues to evolve, we can expect to see even more innovative uses across various industries.\n"
     ]
    }
   ],
   "source": [
    "# If this doesn't work for any reason, try the 2 versions in the following cells\n",
    "# And double check the instructions in the 'Recap on installation of Ollama' at the top of this lab\n",
    "# And if none of that works - contact me!\n",
    "\n",
    "response = requests.post(OLLAMA_API, json=payload, headers=HEADERS)\n",
    "print(response.json()['message']['content'])"
   ]
  },
  {
   "cell_type": "markdown",
   "id": "6a021f13-d6a1-4b96-8e18-4eae49d876fe",
   "metadata": {},
   "source": [
    "# Introducing the ollama package\n",
    "\n",
    "And now we'll do the same thing, but using the elegant ollama python package instead of a direct HTTP call.\n",
    "\n",
    "Under the hood, it's making the same call as above to the ollama server running at localhost:11434"
   ]
  },
  {
   "cell_type": "code",
   "execution_count": 7,
   "id": "7745b9c4-57dc-4867-9180-61fa5db55eb8",
   "metadata": {},
   "outputs": [
    {
     "name": "stdout",
     "output_type": "stream",
     "text": [
      "Generative AI has numerous business applications across various industries, including:\n",
      "\n",
      "1. **Content Generation**: AI can generate high-quality content such as articles, social media posts, product descriptions, and more. This can save time and resources for businesses that need to produce a large volume of content.\n",
      "2. **Marketing Automation**: Generative AI can be used to create personalized marketing campaigns, automate email marketing, and generate targeted ads based on customer data and preferences.\n",
      "3. **Product Design**: AI can assist in the design of new products by generating 2D and 3D models, prototypes, and even entire product lines.\n",
      "4. **Image and Video Editing**: Generative AI can be used to create realistic images and videos for advertising, marketing, and entertainment purposes.\n",
      "5. **Data Analysis**: AI can analyze large datasets and generate insights that help businesses make data-driven decisions.\n",
      "6. **Chatbots and Virtual Assistants**: Generative AI can be used to create conversational interfaces for chatbots and virtual assistants, improving customer service and support.\n",
      "7. **Language Translation**: AI can generate human-like translations of text, speech, and even entire conversations, enabling more effective communication across languages and cultures.\n",
      "8. **Music Composition**: Generative AI can compose music, sound effects, and even entire scores, opening up new possibilities for musicians and composers.\n",
      "9. **Customer Service**: AI-powered chatbots and virtual assistants can use generative AI to respond to customer inquiries, provide personalized support, and resolve issues more efficiently.\n",
      "10. **Predictive Analytics**: Generative AI can analyze historical data and generate predictions about future trends, enabling businesses to make more informed decisions.\n",
      "\n",
      "Some specific examples of business applications include:\n",
      "\n",
      "* **Amazon's Image Recognition**: Amazon uses generative AI to recognize images and classify products in its online marketplace.\n",
      "* **Google's Advertisements**: Google uses generative AI to create personalized advertisements based on user behavior and preferences.\n",
      "* **Microsoft's Chatbots**: Microsoft has developed chatbots using generative AI that can engage with customers, answer questions, and provide support.\n",
      "* **Nike's Product Design**: Nike uses generative AI to design new products, including shoes, clothing, and accessories.\n",
      "\n",
      "These are just a few examples of the many business applications of Generative AI. As the technology continues to evolve, we can expect to see even more innovative use cases across various industries.\n"
     ]
    }
   ],
   "source": [
    "import ollama\n",
    "\n",
    "response = ollama.chat(model=MODEL, messages=messages)\n",
    "print(response['message']['content'])"
   ]
  },
  {
   "cell_type": "markdown",
   "id": "a4704e10-f5fb-4c15-a935-f046c06fb13d",
   "metadata": {},
   "source": [
    "## Alternative approach - using OpenAI python library to connect to Ollama"
   ]
  },
  {
   "cell_type": "code",
   "execution_count": 8,
   "id": "23057e00-b6fc-4678-93a9-6b31cb704bff",
   "metadata": {},
   "outputs": [
    {
     "name": "stdout",
     "output_type": "stream",
     "text": [
      "Generative Artificial Intelligence (AI) has numerous business applications across various industries, including:\n",
      "\n",
      "1. **Content Generation**: AI-powered content generation tools can produce high-quality content such as articles, blog posts, social media posts, and more, at a fraction of the cost and time required by human writers.\n",
      "2. **Marketing Automation**: Generative AI can help automate marketing tasks, such as lead generation, email marketing, and customer personalization, allowing businesses to focus on higher-value activities like strategy and revenue growth.\n",
      "3. **E-commerce Product Description Generation**: AI-powered tools can generate product descriptions, meta tags, and other e-commerce-related content, improving the overall shopping experience for customers.\n",
      "4. **Chatbot Development**: Generative AI enables the development of advanced chatbots that can engage with customers, provide support, answer questions, and even make sales decisions on behalf of businesses.\n",
      "5. **Product Design**: AI-powered generative design tools can create 3D models, CAD designs, and prototypes for products, reducing design time and costs associated with traditional design methods.\n",
      "6. **Audio Editing**: Generative AI can be used to generate music, audio tracks, and sound effects, enabling businesses to create high-quality content for their marketing campaigns, videos, or live events without expensive music teams.\n",
      "7. **Recommendation Systems**: AI-powered generative models can analyze customer behavior, preferences, and past purchases to recommend products, services, or solutions that increase sales and revenue for businesses.\n",
      "8. **Automated Data Analysis**: Generative AI can automate data analysis tasks such as data cleaning, normalization, and visualization, freeing up human analysts to focus on higher-value tasks like insights generation and decision-making.\n",
      "9. **Creative Writing**: AI-powered generative tools can assist writers in generating ideas, outlines, drafts, or even entire pieces of content, helping businesses develop new creative assets without investing in expensive human talent.\n",
      "10. **Financial Modeling**: Generative AI can be used to create personalized financial models for customers, helping them make informed decisions about investments, budgeting, and cash flow management.\n",
      "\n",
      "Some specific industries that are already leveraging Generative AI include:\n",
      "\n",
      "* Advertising and Marketing\n",
      "* E-commerce and Retail\n",
      "* Finance and Banking\n",
      "* Healthcare and Life Sciences\n",
      "* Education and Training\n",
      "* Entertainment and Media\n",
      "* Manufacturing and Supply Chain Management\n"
     ]
    }
   ],
   "source": [
    "# There's actually an alternative approach that some people might prefer\n",
    "# You can use the OpenAI client python library to call Ollama:\n",
    "\n",
    "from openai import OpenAI\n",
    "ollama_via_openai = OpenAI(base_url='http://localhost:11434/v1', api_key='ollama')\n",
    "\n",
    "response = ollama_via_openai.chat.completions.create(\n",
    "    model=MODEL,\n",
    "    messages=messages\n",
    ")\n",
    "\n",
    "print(response.choices[0].message.content)"
   ]
  },
  {
   "cell_type": "markdown",
   "id": "1622d9bb-5c68-4d4e-9ca4-b492c751f898",
   "metadata": {},
   "source": [
    "# NOW the exercise for you\n",
    "\n",
    "Take the code from day1 and incorporate it here, to build a website summarizer that uses Llama 3.2 running locally instead of OpenAI; use either of the above approaches."
   ]
  },
  {
   "cell_type": "code",
   "execution_count": 9,
   "id": "402d5686-4e76-4110-b65a-b3906c35c0a4",
   "metadata": {},
   "outputs": [],
   "source": [
    "headers = {\n",
    " \"User-Agent\": \"Mozilla/5.0 (Windows NT 10.0; Win64; x64) AppleWebKit/537.36 (KHTML, like Gecko) Chrome/117.0.0.0 Safari/537.36\"\n",
    "}\n",
    "\n",
    "class Website:\n",
    "\n",
    "    def __init__(self, url):\n",
    "        \"\"\"\n",
    "        Create this Website object from the given url using the BeautifulSoup library\n",
    "        \"\"\"\n",
    "        self.url = url\n",
    "        response = requests.get(url, headers=headers)\n",
    "        soup = BeautifulSoup(response.content, 'html.parser')\n",
    "        self.title = soup.title.string if soup.title else \"No title found\"\n",
    "        for irrelevant in soup.body([\"script\", \"style\", \"img\", \"input\"]):\n",
    "            irrelevant.decompose()\n",
    "        self.text = soup.body.get_text(separator=\"\\n\", strip=True)"
   ]
  },
  {
   "cell_type": "code",
   "execution_count": 12,
   "id": "e82f6b6a-874e-4d59-b623-8ff073bf684f",
   "metadata": {},
   "outputs": [],
   "source": [
    "system_prompt = \"You are an assistant that analyzes the contents of a website \\\n",
    "and provides a short summary, ignoring text that might be navigation related. \\\n",
    "Respond in markdown.\""
   ]
  },
  {
   "cell_type": "code",
   "execution_count": 18,
   "id": "40a596e7-aa3e-4c16-acb9-7c446b802672",
   "metadata": {},
   "outputs": [],
   "source": [
    "def user_prompt_for(website):\n",
    "    user_prompt = f\"You are looking at a website titled {website.title}\"\n",
    "    user_prompt += \"\\nThe contents of this website is as follows; \\\n",
    "please provide a short summary of this website in markdown. \\\n",
    "If it includes news or announcements, then summarize these too.\\n\\n\"\n",
    "    user_prompt += website.text\n",
    "    return user_prompt\n",
    "    \n",
    "def messages_for(website):\n",
    "    return [\n",
    "        {\"role\": \"system\", \"content\": system_prompt},\n",
    "        {\"role\": \"user\", \"content\": user_prompt_for(website)}]\n",
    "    \n",
    "    \n",
    "def display_summary(url):\n",
    "    summary = summarize(url)\n",
    "    display(Markdown(summary))"
   ]
  },
  {
   "cell_type": "code",
   "execution_count": 14,
   "id": "3c7e344c-dc79-4646-8cf5-50bf616a0443",
   "metadata": {},
   "outputs": [],
   "source": [
    "def summarize(url):\n",
    "    website = Website(url)\n",
    "    ollama_via_openai = OpenAI(base_url='http://localhost:11434/v1', api_key='ollama')\n",
    "    response = ollama_via_openai.chat.completions.create(\n",
    "        model=MODEL,\n",
    "        messages=messages_for(website)\n",
    "    )\n",
    "    return response.choices[0].message.content"
   ]
  },
  {
   "cell_type": "code",
   "execution_count": 19,
   "id": "74d3b8bc-bd04-4923-bd57-d5ffab00313b",
   "metadata": {},
   "outputs": [
    {
     "data": {
      "text/markdown": [
       "**Summary**\n",
       "================\n",
       "\n",
       "* The website is about Edward Donner, a co-founder of Nebula.io and former founder of AI startup untapt.\n",
       "* He works with artificial intelligence (AI) and language models (LLMs).\n",
       "* Ed is an enthusiast for DJing, amateur electronic music production, and Hacker News.\n",
       "* The website includes news/announcements:\n",
       "\t+ December 21, 2024: \"Welcome, SuperDataScientists!\"\n",
       "\t+ November 13, 2024: Mastering AI and LLM Engineering – Resources\n",
       "\t+ October 16, 2024: From Software Engineer to AI Data Scientist – resources\n",
       "\t+ August 6, 2024: Outsmart LLM Arena – a battle of diplomacy and deviousness\n",
       "\n",
       "**Key Information**\n",
       "------------------\n",
       "\n",
       "* Ed's role as co-founder/CTO at Nebula.io and founder/CEO at untapt.\n",
       "* Focus on applying AI to help people discover their potential.\n",
       "* Lattice matchings model patented by Nebula.io.\n",
       "* Various newsletters subscribed."
      ],
      "text/plain": [
       "<IPython.core.display.Markdown object>"
      ]
     },
     "metadata": {},
     "output_type": "display_data"
    }
   ],
   "source": [
    "display_summary(\"https://edwarddonner.com\")"
   ]
  },
  {
   "cell_type": "code",
   "execution_count": null,
   "id": "f421164f-69ba-4247-b9ee-0982bb3e652c",
   "metadata": {},
   "outputs": [],
   "source": []
  }
 ],
 "metadata": {
  "kernelspec": {
   "display_name": "Python 3 (ipykernel)",
   "language": "python",
   "name": "python3"
  },
  "language_info": {
   "codemirror_mode": {
    "name": "ipython",
    "version": 3
   },
   "file_extension": ".py",
   "mimetype": "text/x-python",
   "name": "python",
   "nbconvert_exporter": "python",
   "pygments_lexer": "ipython3",
   "version": "3.11.11"
  }
 },
 "nbformat": 4,
 "nbformat_minor": 5
}
